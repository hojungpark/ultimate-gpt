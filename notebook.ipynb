{
 "cells": [
  {
   "cell_type": "code",
   "execution_count": 1,
   "metadata": {},
   "outputs": [
    {
     "data": {
      "text/plain": [
       "\"With these ingredients, you can make a classic and delicious dish called spaghetti and meatballs. Here's a simple recipe to follow:\\n\\nIngredients:\\n- Tomato sauce\\n- Meatballs\\n- Spaghetti noodles\\n- Olive oil\\n- Garlic (minced)\\n- Onion (finely chopped)\\n- Salt and pepper (to taste)\\n- Parmesan cheese (grated, for garnish)\\n- Fresh basil (chopped, for garnish)\\n\\nInstructions:\\n1. Cook the spaghetti noodles according to the package instructions until al dente. Drain and set aside.\\n2. In a large skillet, heat some olive oil over medium heat. Add the minced garlic and chopped onion, and sauté until they become fragrant and translucent.\\n3. Pour the tomato sauce into the skillet and season with salt and pepper. Stir well and let it simmer for a few minutes.\\n4. In a separate pan, cook the meatballs according to the package instructions until they are fully cooked.\\n5. Once the meatballs are cooked, add them to the tomato sauce and let them simmer together for a few more minutes to allow the flavors to meld.\\n6. Serve the spaghetti noodles on a plate or in a bowl, and top with the tomato sauce and meatballs.\\n7. Garnish with grated Parmesan cheese and chopped fresh basil.\\n8. Enjoy your homemade spaghetti and meatballs!\\n\\nThis classic Italian dish is sure to be a crowd-pleaser and a delicious meal.\""
      ]
     },
     "execution_count": 1,
     "metadata": {},
     "output_type": "execute_result"
    }
   ],
   "source": [
    "from langchain.chat_models import ChatOpenAI\n",
    "from langchain.prompts import PromptTemplate\n",
    "\n",
    "template = PromptTemplate.from_template(\n",
    "    \"I have these ingredients: {ingredient_a}, {ingredient_b}, and {ingredient_c}. What is the most delcious food that I can cook with it?\"\n",
    ")\n",
    "\n",
    "chat = ChatOpenAI(\n",
    "    temperature=0.1\n",
    ")\n",
    "\n",
    "prompt = template.format(\n",
    "    ingredient_a = \"Tomato sauce\",\n",
    "    ingredient_b = \"Meatball\",\n",
    "    ingredient_c = \"Spagetti noodles\"\n",
    ")\n",
    "\n",
    "chat.predict(prompt)\n"
   ]
  },
  {
   "cell_type": "code",
   "execution_count": 6,
   "metadata": {},
   "outputs": [
    {
     "data": {
      "text/plain": [
       "AIMessage(content='With butter, tomato, and spaghetti noodles, you can create a simple and delicious dish called \"Spaghetti Aglio e Olio with Tomato.\"\\n\\nHere\\'s the recipe:\\n\\nIngredients:\\n- 200g spaghetti noodles\\n- 2 tablespoons butter\\n- 2 tablespoons olive oil\\n- 3-4 cloves of garlic, minced\\n- 1 tomato, diced\\n- Salt and pepper to taste\\n- Grated Parmesan cheese (optional)\\n- Fresh basil leaves (optional)\\n\\nInstructions:\\n1. Cook the spaghetti noodles according to the package instructions until al dente. Drain and set aside.\\n2. In a large skillet, melt the butter and olive oil over medium heat.\\n3. Add the minced garlic to the skillet and sauté until fragrant and lightly golden.\\n4. Add the diced tomato to the skillet and cook for a few minutes until it softens slightly.\\n5. Season with salt and pepper to taste.\\n6. Add the cooked spaghetti noodles to the skillet and toss well to coat them with the garlic, tomato, and butter mixture.\\n7. Cook for an additional 1-2 minutes, stirring occasionally, to allow the flavors to meld together.\\n8. Remove from heat and serve hot.\\n9. Optional: Top with grated Parmesan cheese and fresh basil leaves for added flavor and garnish.\\n\\nThis recipe is quick, easy, and requires minimal ingredients. It\\'s perfect for university students looking for a tasty and budget-friendly meal. Enjoy!')"
      ]
     },
     "execution_count": 6,
     "metadata": {},
     "output_type": "execute_result"
    }
   ],
   "source": [
    "from langchain.schema import HumanMessage, AIMessage, SystemMessage\n",
    "\n",
    "messages = [\n",
    "    SystemMessage(content=\"You are a cooking expert, your job is the give efficient cooking recipes for university students to cook\"),\n",
    "    AIMessage(content=\"Hello my name is Gordon Ramsey\"),\n",
    "    HumanMessage(content=\"I have a butter, tomato, and a spagetti noodles, what can I create out of this\")\n",
    "]\n",
    "\n",
    "chat.predict_messages(messages)"
   ]
  },
  {
   "cell_type": "code",
   "execution_count": null,
   "metadata": {},
   "outputs": [],
   "source": []
  }
 ],
 "metadata": {
  "kernelspec": {
   "display_name": "env",
   "language": "python",
   "name": "python3"
  },
  "language_info": {
   "codemirror_mode": {
    "name": "ipython",
    "version": 3
   },
   "file_extension": ".py",
   "mimetype": "text/x-python",
   "name": "python",
   "nbconvert_exporter": "python",
   "pygments_lexer": "ipython3",
   "version": "3.11.6"
  }
 },
 "nbformat": 4,
 "nbformat_minor": 2
}
