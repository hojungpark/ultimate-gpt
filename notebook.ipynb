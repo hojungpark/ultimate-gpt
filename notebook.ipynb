{
 "cells": [
  {
   "cell_type": "code",
   "execution_count": 29,
   "metadata": {},
   "outputs": [],
   "source": [
    "from langchain.prompts import PromptTemplate, ChatPromptTemplate\n",
    "from langchain.chat_models import ChatOpenAI\n",
    "from langchain.callbacks import StreamingStdOutCallbackHandler\n",
    "chat = ChatOpenAI(\n",
    "    temperature=0.1,\n",
    "    streaming=True,\n",
    "    callbacks=[\n",
    "        StreamingStdOutCallbackHandler(),\n",
    "    ],\n",
    ")"
   ]
  },
  {
   "cell_type": "code",
   "execution_count": 30,
   "metadata": {},
   "outputs": [],
   "source": [
    "chef_prompt = ChatPromptTemplate.from_messages([\n",
    "    (\"system\",\"\"),\n",
    "    (\"human\", \"I want to cook {cuisine}\")\n",
    "])\n",
    "\n",
    "recommendation_chain = chef_prompt | chat"
   ]
  },
  {
   "cell_type": "code",
   "execution_count": 31,
   "metadata": {},
   "outputs": [],
   "source": [
    "veg_chef_prompt = ChatPromptTemplate.from_messages([\n",
    "    (\n",
    "        \"system\",\n",
    "        \"You are a vegetarian chef specialized on making traditional recipies vegetarian. You find alternative ingredients and explain their preparation. You don't radically modify the recipe. If there is no alternative for a food just say you don't know how to replace it.\",\n",
    "    ),\n",
    "    (\"human\", \"{recipe}\"),\n",
    "])\n",
    "\n",
    "veg_chef_prompt = veg_chef_prompt | chat"
   ]
  },
  {
   "cell_type": "code",
   "execution_count": 32,
   "metadata": {},
   "outputs": [
    {
     "name": "stdout",
     "output_type": "stream",
     "text": [
      "That's great! Indian cuisine is known for its rich flavors and diverse range of dishes. Here are a few steps to help you get started:\n",
      "\n",
      "1. Choose a recipe: Decide on the specific Indian dish you want to cook. Some popular options include butter chicken, biryani, tikka masala, or chana masala. You can find recipes online or in Indian cookbooks.\n",
      "\n",
      "2. Gather ingredients: Make a list of the ingredients required for your chosen recipe. Indian cooking often involves a variety of spices, so make sure you have them on hand. Common spices used in Indian cuisine include cumin, coriander, turmeric, cardamom, and garam masala.\n",
      "\n",
      "3. Prepare the ingredients: Chop vegetables, marinate meat (if required), and measure out the spices and other ingredients as per the recipe.\n",
      "\n",
      "4. Follow the recipe: Read the recipe carefully and follow the instructions step by step. Indian cooking often involves layering flavors, so pay attention to the order in which ingredients are added.\n",
      "\n",
      "5. Use traditional cooking methods: Indian cuisine often involves techniques like sautéing, frying, simmering, and tempering. Familiarize yourself with these methods and use them as directed in the recipe.\n",
      "\n",
      "6. Taste and adjust: Indian cooking is all about balancing flavors. Taste your dish as you cook and adjust the seasoning as needed. You can add more spices, salt, or other ingredients to achieve the desired taste.\n",
      "\n",
      "7. Serve and enjoy: Once your dish is cooked, serve it with rice, naan bread, or roti. Garnish with fresh herbs like cilantro or mint for added flavor.\n",
      "\n",
      "Remember, practice makes perfect, so don't be discouraged if your first attempt doesn't turn out exactly as expected. Enjoy the process of learning and experimenting with Indian flavors, and soon you'll be able to cook delicious Indian dishes with confidence.That's great! Indian cuisine is indeed known for its rich flavors and diverse range of dishes. As a vegetarian chef, I can help you make traditional Indian recipes vegetarian by suggesting alternative ingredients and explaining their preparation. Here are a few steps to get started:\n",
      "\n",
      "1. Choose a vegetarian recipe: Decide on the specific vegetarian Indian dish you want to cook. Some popular options include vegetable biryani, paneer tikka masala, chana masala, or palak paneer. You can find vegetarian versions of these recipes online or in vegetarian Indian cookbooks.\n",
      "\n",
      "2. Gather ingredients: Make a list of the vegetarian ingredients required for your chosen recipe. Indian cooking often involves a variety of vegetables, legumes, and spices. Common vegetarian ingredients used in Indian cuisine include potatoes, cauliflower, peas, lentils, chickpeas, paneer (Indian cottage cheese), and a variety of spices.\n",
      "\n",
      "3. Prepare the ingredients: Chop vegetables, soak and cook legumes (if required), and measure out the spices and other vegetarian ingredients as per the recipe. For example, if the recipe calls for chicken, you can replace it with paneer or tofu for a vegetarian version.\n",
      "\n",
      "4. Follow the recipe: Read the vegetarian recipe carefully and follow the instructions step by step. Indian cooking often involves layering flavors, so pay attention to the order in which vegetarian ingredients and spices are added.\n",
      "\n",
      "5. Use traditional cooking methods: Indian cuisine often involves techniques like sautéing, frying, simmering, and tempering. Familiarize yourself with these methods and use them as directed in the vegetarian recipe.\n",
      "\n",
      "6. Taste and adjust: Just like in traditional Indian cooking, taste your dish as you cook and adjust the seasoning as needed. You can add more spices, salt, or other vegetarian ingredients to achieve the desired taste.\n",
      "\n",
      "7. Serve and enjoy: Once your vegetarian dish is cooked, serve it with rice, naan bread, or roti. Garnish with fresh herbs like cilantro or mint for added flavor.\n",
      "\n",
      "Remember, vegetarian Indian cooking offers a wide range of options and flavors. Experiment with different vegetables, legumes, and spices to create your own unique vegetarian Indian dishes. Enjoy the process of learning and experimenting with vegetarian Indian flavors, and soon you'll be able to cook delicious vegetarian Indian dishes with confidence."
     ]
    },
    {
     "data": {
      "text/plain": [
       "AIMessageChunk(content=\"That's great! Indian cuisine is indeed known for its rich flavors and diverse range of dishes. As a vegetarian chef, I can help you make traditional Indian recipes vegetarian by suggesting alternative ingredients and explaining their preparation. Here are a few steps to get started:\\n\\n1. Choose a vegetarian recipe: Decide on the specific vegetarian Indian dish you want to cook. Some popular options include vegetable biryani, paneer tikka masala, chana masala, or palak paneer. You can find vegetarian versions of these recipes online or in vegetarian Indian cookbooks.\\n\\n2. Gather ingredients: Make a list of the vegetarian ingredients required for your chosen recipe. Indian cooking often involves a variety of vegetables, legumes, and spices. Common vegetarian ingredients used in Indian cuisine include potatoes, cauliflower, peas, lentils, chickpeas, paneer (Indian cottage cheese), and a variety of spices.\\n\\n3. Prepare the ingredients: Chop vegetables, soak and cook legumes (if required), and measure out the spices and other vegetarian ingredients as per the recipe. For example, if the recipe calls for chicken, you can replace it with paneer or tofu for a vegetarian version.\\n\\n4. Follow the recipe: Read the vegetarian recipe carefully and follow the instructions step by step. Indian cooking often involves layering flavors, so pay attention to the order in which vegetarian ingredients and spices are added.\\n\\n5. Use traditional cooking methods: Indian cuisine often involves techniques like sautéing, frying, simmering, and tempering. Familiarize yourself with these methods and use them as directed in the vegetarian recipe.\\n\\n6. Taste and adjust: Just like in traditional Indian cooking, taste your dish as you cook and adjust the seasoning as needed. You can add more spices, salt, or other vegetarian ingredients to achieve the desired taste.\\n\\n7. Serve and enjoy: Once your vegetarian dish is cooked, serve it with rice, naan bread, or roti. Garnish with fresh herbs like cilantro or mint for added flavor.\\n\\nRemember, vegetarian Indian cooking offers a wide range of options and flavors. Experiment with different vegetables, legumes, and spices to create your own unique vegetarian Indian dishes. Enjoy the process of learning and experimenting with vegetarian Indian flavors, and soon you'll be able to cook delicious vegetarian Indian dishes with confidence.\")"
      ]
     },
     "execution_count": 32,
     "metadata": {},
     "output_type": "execute_result"
    }
   ],
   "source": [
    "final_chain = {\"recipe\":recommendation_chain} | veg_chef_prompt\n",
    "\n",
    "final_chain.invoke(\n",
    "    {\"cuisine\":\"indian\"}\n",
    ")"
   ]
  }
 ],
 "metadata": {
  "kernelspec": {
   "display_name": "env",
   "language": "python",
   "name": "python3"
  },
  "language_info": {
   "codemirror_mode": {
    "name": "ipython",
    "version": 3
   },
   "file_extension": ".py",
   "mimetype": "text/x-python",
   "name": "python",
   "nbconvert_exporter": "python",
   "pygments_lexer": "ipython3",
   "version": "3.11.6"
  }
 },
 "nbformat": 4,
 "nbformat_minor": 2
}
